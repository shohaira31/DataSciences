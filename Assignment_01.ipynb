{
 "cells": [
  {
   "cell_type": "code",
   "execution_count": 2,
   "id": "c750937e",
   "metadata": {},
   "outputs": [
    {
     "name": "stdout",
     "output_type": "stream",
     "text": [
      "Twinkle twinkle little star\n",
      " \thow i wonder what you are\n",
      " \t\t up above the world so high\n",
      " \t\t like a diamond in the sky \n",
      "twinkle twinkle little star\n",
      " \t how i wonder what you are\n"
     ]
    }
   ],
   "source": [
    "print(\"Twinkle twinkle little star\\n \\thow i wonder what you are\\n \\t\\t up above the world so high\\n \\t\\t like a diamond in the sky \\ntwinkle twinkle little star\\n \\t how i wonder what you are\")"
   ]
  },
  {
   "cell_type": "code",
   "execution_count": 4,
   "id": "f2f3c424",
   "metadata": {},
   "outputs": [
    {
     "name": "stdout",
     "output_type": "stream",
     "text": [
      "PYTHON VER:: \n",
      "3.8.8 (default, Apr 13 2021, 15:08:03) [MSC v.1916 64 bit (AMD64)]\n",
      "\n",
      "\n",
      "VERSION INFORMATION:: \n",
      "sys.version_info(major=3, minor=8, micro=8, releaselevel='final', serial=0)\n"
     ]
    }
   ],
   "source": [
    "import sys\n",
    "print(\"PYTHON VER:: \")\n",
    "print(sys.version)\n",
    "print(\"\\n\\nVERSION INFORMATION:: \")\n",
    "print(sys.version_info)"
   ]
  },
  {
   "cell_type": "code",
   "execution_count": 5,
   "id": "cb12a781",
   "metadata": {},
   "outputs": [
    {
     "name": "stdout",
     "output_type": "stream",
     "text": [
      "TODAY'S DATE & TIME \n",
      "2022-01-01   23:38:42\n"
     ]
    }
   ],
   "source": [
    "from datetime import datetime\n",
    "d1=datetime.now()\n",
    "print(\"TODAY'S DATE & TIME \")\n",
    "print(d1.strftime(\"%Y-%m-%d   %H:%M:%S\"))"
   ]
  },
  {
   "cell_type": "code",
   "execution_count": 6,
   "id": "8083ecbe",
   "metadata": {},
   "outputs": [
    {
     "name": "stdout",
     "output_type": "stream",
     "text": [
      "ENTER RADIUS :: 34\n",
      "AREA of given RADIUS 34 is::  3629.84\n"
     ]
    }
   ],
   "source": [
    "rad=input(\"ENTER RADIUS :: \")\n",
    "area=3.14* (float(rad))**2\n",
    "print(\"AREA of given RADIUS\",rad,\"is:: \",area)"
   ]
  },
  {
   "cell_type": "code",
   "execution_count": 7,
   "id": "596f5ff9",
   "metadata": {},
   "outputs": [
    {
     "name": "stdout",
     "output_type": "stream",
     "text": [
      "ENTER FIRST NAME: shohaira\n",
      "ENTER LAST NAME: mughal\n",
      "\n",
      " ariahohs lahgum\n"
     ]
    }
   ],
   "source": [
    "a1=input(\"ENTER FIRST NAME: \")\n",
    "a2=input(\"ENTER LAST NAME: \")\n",
    "s1=''.join(reversed(a1))\n",
    "s2=''.join(reversed(a2))\n",
    "\n",
    "\n",
    "print(\"\\n\",s1 + \" \" +s2)"
   ]
  },
  {
   "cell_type": "code",
   "execution_count": 9,
   "id": "d4d84117",
   "metadata": {},
   "outputs": [
    {
     "name": "stdout",
     "output_type": "stream",
     "text": [
      "ENTER 1 NO: 23\n",
      "ENTER 2 NO: 23\n",
      "46\n"
     ]
    }
   ],
   "source": [
    "a1=int(input(\"ENTER 1 NO: \"))\n",
    "a2=int(input(\"ENTER 2 NO: \"))\n",
    "sum=int(a1)+int(a2)\n",
    "print(sum)"
   ]
  },
  {
   "cell_type": "code",
   "execution_count": null,
   "id": "5823236c",
   "metadata": {},
   "outputs": [],
   "source": []
  }
 ],
 "metadata": {
  "kernelspec": {
   "display_name": "Python 3",
   "language": "python",
   "name": "python3"
  },
  "language_info": {
   "codemirror_mode": {
    "name": "ipython",
    "version": 3
   },
   "file_extension": ".py",
   "mimetype": "text/x-python",
   "name": "python",
   "nbconvert_exporter": "python",
   "pygments_lexer": "ipython3",
   "version": "3.8.8"
  }
 },
 "nbformat": 4,
 "nbformat_minor": 5
}
